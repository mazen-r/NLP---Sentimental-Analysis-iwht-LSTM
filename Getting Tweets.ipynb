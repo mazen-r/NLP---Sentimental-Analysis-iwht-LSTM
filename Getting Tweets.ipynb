{
 "cells": [
  {
   "cell_type": "code",
   "execution_count": 1,
   "id": "8da82ddb",
   "metadata": {},
   "outputs": [],
   "source": [
    "import os\n",
    "import tweepy as tw\n",
    "import pandas as pd\n",
    "import time\n",
    "import datetime"
   ]
  },
  {
   "cell_type": "code",
   "execution_count": 2,
   "id": "0781c5a4",
   "metadata": {},
   "outputs": [],
   "source": [
    "consumer_key = \"\"\n",
    "consumer_secret = \"\"\n",
    "access_token = \"\"\n",
    "access_token_secret = \"\"\n",
    "# You can use your keys unfortunately I can't share it"
   ]
  },
  {
   "cell_type": "code",
   "execution_count": 3,
   "id": "f8063471",
   "metadata": {},
   "outputs": [],
   "source": [
    "auth = tw.OAuthHandler(consumer_key, consumer_secret)\n",
    "auth.set_access_token(access_token, access_token_secret)\n",
    "api = tw.API(auth, wait_on_rate_limit=True)"
   ]
  },
  {
   "cell_type": "code",
   "execution_count": 4,
   "id": "d5839657",
   "metadata": {},
   "outputs": [],
   "source": [
    "search_words = \"manchester united\""
   ]
  },
  {
   "cell_type": "code",
   "execution_count": 5,
   "id": "884c6c61",
   "metadata": {
    "scrolled": true
   },
   "outputs": [
    {
     "name": "stdout",
     "output_type": "stream",
     "text": [
      "Tweets is :    “I can’t now”- 29-year-old Tottenham superstar reveals why he supported Man United https://t.co/4dzk9s0BV9\n",
      "---\n",
      "Tweets is :    Ryan Giggs\n",
      "Club :- Manchester United  \n",
      "Years :- 1990-2014\n",
      "Appearances :- 672\n",
      "Goals :- 114\n",
      "\n",
      "Billy Liddel\n",
      "Club :- Liverpool\n",
      "Years :- 1938-1961\n",
      "Appearances :- 492\n",
      "Goals :- 215\n",
      "\n",
      "Francesco Totti\n",
      "Club :- Roma\n",
      "Years :- 1992-2017\n",
      "Appearances :- 619\n",
      "Goals :- 250\n",
      "---\n",
      "Tweets is :    How long does it take for Manchester United membership card to arrive?\n",
      "---\n",
      "Tweets is :    Can just imagine Ole shouting  \"This is Manchester United\" into the ears of his players https://t.co/o6GdygDVi1\n",
      "---\n",
      "Tweets is :    Carles Puyol\n",
      "Club :- Barcelona\n",
      "Years :- 1999-2014\n",
      "Appearances :- 392\n",
      "Goals :- 12\n",
      "\n",
      "Paolo Maldini\n",
      "Club :- Ac Millan\n",
      "Years :- 1984-2009\n",
      "Appearances :- 647\n",
      "Goals :- 29\n",
      "\n",
      "Paul Scholes\n",
      "Club :- Manchester United \n",
      "Years :- 1993-2013\n",
      "Appearances :- 499\n",
      "Goals :- 107\n",
      "---\n",
      "It took 0.85 Seconds to get tweets\n"
     ]
    }
   ],
   "source": [
    "start = time.time()\n",
    "tweets = tw.Cursor(api.search,\n",
    "              q=search_words+' -filter:retweets', tweet_mode=\"extended\",\n",
    "              lang=\"en\").items(5)\n",
    "\n",
    "\n",
    "for tweet in tweets:\n",
    "    print(f'Tweets is :    {tweet.full_text}')\n",
    "    print ('---')\n",
    "\n",
    "end = time.time()\n",
    "print(f\"It took {round(end - start, 2)} Seconds to get tweets\")"
   ]
  },
  {
   "cell_type": "code",
   "execution_count": 6,
   "id": "dfddbb92",
   "metadata": {},
   "outputs": [
    {
     "name": "stdout",
     "output_type": "stream",
     "text": [
      "It took 51.8 Seconds to get tweets\n"
     ]
    },
    {
     "data": {
      "text/html": [
       "<div>\n",
       "<style scoped>\n",
       "    .dataframe tbody tr th:only-of-type {\n",
       "        vertical-align: middle;\n",
       "    }\n",
       "\n",
       "    .dataframe tbody tr th {\n",
       "        vertical-align: top;\n",
       "    }\n",
       "\n",
       "    .dataframe thead th {\n",
       "        text-align: right;\n",
       "    }\n",
       "</style>\n",
       "<table border=\"1\" class=\"dataframe\">\n",
       "  <thead>\n",
       "    <tr style=\"text-align: right;\">\n",
       "      <th></th>\n",
       "      <th>tweet</th>\n",
       "      <th>date</th>\n",
       "    </tr>\n",
       "  </thead>\n",
       "  <tbody>\n",
       "    <tr>\n",
       "      <th>0</th>\n",
       "      <td>“I can’t now”- 29-year-old Tottenham superstar...</td>\n",
       "      <td>2021-09-17 17:54:28</td>\n",
       "    </tr>\n",
       "    <tr>\n",
       "      <th>1</th>\n",
       "      <td>Ryan Giggs\\nClub :- Manchester United  \\nYears...</td>\n",
       "      <td>2021-09-17 17:54:11</td>\n",
       "    </tr>\n",
       "    <tr>\n",
       "      <th>2</th>\n",
       "      <td>How long does it take for Manchester United me...</td>\n",
       "      <td>2021-09-17 17:54:08</td>\n",
       "    </tr>\n",
       "    <tr>\n",
       "      <th>3</th>\n",
       "      <td>Can just imagine Ole shouting  \"This is Manche...</td>\n",
       "      <td>2021-09-17 17:53:38</td>\n",
       "    </tr>\n",
       "    <tr>\n",
       "      <th>4</th>\n",
       "      <td>Carles Puyol\\nClub :- Barcelona\\nYears :- 1999...</td>\n",
       "      <td>2021-09-17 17:53:33</td>\n",
       "    </tr>\n",
       "  </tbody>\n",
       "</table>\n",
       "</div>"
      ],
      "text/plain": [
       "                                               tweet                date\n",
       "0  “I can’t now”- 29-year-old Tottenham superstar... 2021-09-17 17:54:28\n",
       "1  Ryan Giggs\\nClub :- Manchester United  \\nYears... 2021-09-17 17:54:11\n",
       "2  How long does it take for Manchester United me... 2021-09-17 17:54:08\n",
       "3  Can just imagine Ole shouting  \"This is Manche... 2021-09-17 17:53:38\n",
       "4  Carles Puyol\\nClub :- Barcelona\\nYears :- 1999... 2021-09-17 17:53:33"
      ]
     },
     "execution_count": 6,
     "metadata": {},
     "output_type": "execute_result"
    }
   ],
   "source": [
    "start = time.time()\n",
    "\n",
    "tweets = tw.Cursor(api.search,\n",
    "              q=search_words+' -filter:retweets', tweet_mode=\"extended\",\n",
    "              lang=\"en\").items(1000)\n",
    "\n",
    "users_locs = [[tweet.full_text,tweet.created_at] for tweet in tweets]\n",
    "tweet_text = pd.DataFrame(data=users_locs, \n",
    "                    columns=['tweet','date'])\n",
    "end = time.time()\n",
    "print(f\"It took {round(end - start, 2)} Seconds to get tweets\")\n",
    "tweet_text.head()"
   ]
  },
  {
   "cell_type": "code",
   "execution_count": 7,
   "id": "1b7f5575",
   "metadata": {},
   "outputs": [],
   "source": [
    "tweet_text.to_csv('manchester.csv', index=False)"
   ]
  },
  {
   "cell_type": "code",
   "execution_count": 19,
   "id": "54bd9214",
   "metadata": {},
   "outputs": [],
   "source": [
    "manchester = pd.read_csv('manchester.csv')"
   ]
  },
  {
   "cell_type": "code",
   "execution_count": 22,
   "id": "d2b113fb",
   "metadata": {},
   "outputs": [
    {
     "data": {
      "text/html": [
       "<div>\n",
       "<style scoped>\n",
       "    .dataframe tbody tr th:only-of-type {\n",
       "        vertical-align: middle;\n",
       "    }\n",
       "\n",
       "    .dataframe tbody tr th {\n",
       "        vertical-align: top;\n",
       "    }\n",
       "\n",
       "    .dataframe thead th {\n",
       "        text-align: right;\n",
       "    }\n",
       "</style>\n",
       "<table border=\"1\" class=\"dataframe\">\n",
       "  <thead>\n",
       "    <tr style=\"text-align: right;\">\n",
       "      <th></th>\n",
       "      <th>tweet</th>\n",
       "      <th>date</th>\n",
       "    </tr>\n",
       "  </thead>\n",
       "  <tbody>\n",
       "    <tr>\n",
       "      <th>0</th>\n",
       "      <td>“I can’t now”- 29-year-old Tottenham superstar...</td>\n",
       "      <td>2021-09-17 17:54:28</td>\n",
       "    </tr>\n",
       "    <tr>\n",
       "      <th>1</th>\n",
       "      <td>Ryan Giggs\\nClub :- Manchester United  \\nYears...</td>\n",
       "      <td>2021-09-17 17:54:11</td>\n",
       "    </tr>\n",
       "    <tr>\n",
       "      <th>2</th>\n",
       "      <td>How long does it take for Manchester United me...</td>\n",
       "      <td>2021-09-17 17:54:08</td>\n",
       "    </tr>\n",
       "    <tr>\n",
       "      <th>3</th>\n",
       "      <td>Can just imagine Ole shouting  \"This is Manche...</td>\n",
       "      <td>2021-09-17 17:53:38</td>\n",
       "    </tr>\n",
       "    <tr>\n",
       "      <th>4</th>\n",
       "      <td>Carles Puyol\\nClub :- Barcelona\\nYears :- 1999...</td>\n",
       "      <td>2021-09-17 17:53:33</td>\n",
       "    </tr>\n",
       "  </tbody>\n",
       "</table>\n",
       "</div>"
      ],
      "text/plain": [
       "                                               tweet                 date\n",
       "0  “I can’t now”- 29-year-old Tottenham superstar...  2021-09-17 17:54:28\n",
       "1  Ryan Giggs\\nClub :- Manchester United  \\nYears...  2021-09-17 17:54:11\n",
       "2  How long does it take for Manchester United me...  2021-09-17 17:54:08\n",
       "3  Can just imagine Ole shouting  \"This is Manche...  2021-09-17 17:53:38\n",
       "4  Carles Puyol\\nClub :- Barcelona\\nYears :- 1999...  2021-09-17 17:53:33"
      ]
     },
     "execution_count": 22,
     "metadata": {},
     "output_type": "execute_result"
    }
   ],
   "source": [
    "manchester.head()"
   ]
  },
  {
   "cell_type": "code",
   "execution_count": 11,
   "id": "e23b82fa",
   "metadata": {
    "scrolled": true
   },
   "outputs": [
    {
     "data": {
      "text/plain": [
       "(1000, 2)"
      ]
     },
     "execution_count": 11,
     "metadata": {},
     "output_type": "execute_result"
    }
   ],
   "source": [
    "df.shape"
   ]
  },
  {
   "cell_type": "markdown",
   "id": "74dc71e4",
   "metadata": {},
   "source": [
    "Now Lets do it again for Barcelona"
   ]
  },
  {
   "cell_type": "code",
   "execution_count": 13,
   "id": "5b94b546",
   "metadata": {},
   "outputs": [],
   "source": [
    "search_words = \"fc barcelona\""
   ]
  },
  {
   "cell_type": "code",
   "execution_count": 14,
   "id": "0440a215",
   "metadata": {},
   "outputs": [
    {
     "name": "stdout",
     "output_type": "stream",
     "text": [
      "It took 52.63 Seconds to get tweets\n"
     ]
    },
    {
     "data": {
      "text/html": [
       "<div>\n",
       "<style scoped>\n",
       "    .dataframe tbody tr th:only-of-type {\n",
       "        vertical-align: middle;\n",
       "    }\n",
       "\n",
       "    .dataframe tbody tr th {\n",
       "        vertical-align: top;\n",
       "    }\n",
       "\n",
       "    .dataframe thead th {\n",
       "        text-align: right;\n",
       "    }\n",
       "</style>\n",
       "<table border=\"1\" class=\"dataframe\">\n",
       "  <thead>\n",
       "    <tr style=\"text-align: right;\">\n",
       "      <th></th>\n",
       "      <th>tweet</th>\n",
       "      <th>date</th>\n",
       "    </tr>\n",
       "  </thead>\n",
       "  <tbody>\n",
       "    <tr>\n",
       "      <th>0</th>\n",
       "      <td>FC Barcelona takes his hat off to Real Madrid!...</td>\n",
       "      <td>2021-09-17 17:55:06</td>\n",
       "    </tr>\n",
       "    <tr>\n",
       "      <th>1</th>\n",
       "      <td>24-years-ago Faustino ‘El Tino’ Asprilla nette...</td>\n",
       "      <td>2021-09-17 17:51:54</td>\n",
       "    </tr>\n",
       "    <tr>\n",
       "      <th>2</th>\n",
       "      <td>@imfootybants FC Barcelona is a bigger club th...</td>\n",
       "      <td>2021-09-17 17:50:44</td>\n",
       "    </tr>\n",
       "    <tr>\n",
       "      <th>3</th>\n",
       "      <td>FC Barcelona: Eduard Romeu returns to the non-...</td>\n",
       "      <td>2021-09-17 17:46:25</td>\n",
       "    </tr>\n",
       "    <tr>\n",
       "      <th>4</th>\n",
       "      <td>GRIUP C:\\nAjax - 3 Points \\nBVB - 3 Points \\nB...</td>\n",
       "      <td>2021-09-17 17:37:43</td>\n",
       "    </tr>\n",
       "  </tbody>\n",
       "</table>\n",
       "</div>"
      ],
      "text/plain": [
       "                                               tweet                date\n",
       "0  FC Barcelona takes his hat off to Real Madrid!... 2021-09-17 17:55:06\n",
       "1  24-years-ago Faustino ‘El Tino’ Asprilla nette... 2021-09-17 17:51:54\n",
       "2  @imfootybants FC Barcelona is a bigger club th... 2021-09-17 17:50:44\n",
       "3  FC Barcelona: Eduard Romeu returns to the non-... 2021-09-17 17:46:25\n",
       "4  GRIUP C:\\nAjax - 3 Points \\nBVB - 3 Points \\nB... 2021-09-17 17:37:43"
      ]
     },
     "execution_count": 14,
     "metadata": {},
     "output_type": "execute_result"
    }
   ],
   "source": [
    "start = time.time()\n",
    "\n",
    "tweets = tw.Cursor(api.search,\n",
    "              q=search_words+' -filter:retweets', tweet_mode=\"extended\",\n",
    "              lang=\"en\").items(1000)\n",
    "\n",
    "users_locs = [[tweet.full_text,tweet.created_at] for tweet in tweets]\n",
    "tweet_text = pd.DataFrame(data=users_locs, \n",
    "                    columns=['tweet','date'])\n",
    "end = time.time()\n",
    "print(f\"It took {round(end - start, 2)} Seconds to get tweets\")\n",
    "tweet_text.head()"
   ]
  },
  {
   "cell_type": "markdown",
   "id": "9de14367",
   "metadata": {},
   "source": [
    "Note Our limit in basic developer account is 420 tweets every 15 mins, so I had to run the code multiple times to get 1 thousand tweets for each team"
   ]
  },
  {
   "cell_type": "code",
   "execution_count": 15,
   "id": "ab7284c4",
   "metadata": {},
   "outputs": [],
   "source": [
    "tweet_text.to_csv('barcelona.csv', index=False)"
   ]
  },
  {
   "cell_type": "code",
   "execution_count": 21,
   "id": "794385a9",
   "metadata": {},
   "outputs": [],
   "source": [
    "barcelona = pd.read_csv('barcelona.csv')"
   ]
  },
  {
   "cell_type": "code",
   "execution_count": 23,
   "id": "5a8188ea",
   "metadata": {
    "scrolled": true
   },
   "outputs": [
    {
     "data": {
      "text/html": [
       "<div>\n",
       "<style scoped>\n",
       "    .dataframe tbody tr th:only-of-type {\n",
       "        vertical-align: middle;\n",
       "    }\n",
       "\n",
       "    .dataframe tbody tr th {\n",
       "        vertical-align: top;\n",
       "    }\n",
       "\n",
       "    .dataframe thead th {\n",
       "        text-align: right;\n",
       "    }\n",
       "</style>\n",
       "<table border=\"1\" class=\"dataframe\">\n",
       "  <thead>\n",
       "    <tr style=\"text-align: right;\">\n",
       "      <th></th>\n",
       "      <th>tweet</th>\n",
       "      <th>date</th>\n",
       "    </tr>\n",
       "  </thead>\n",
       "  <tbody>\n",
       "    <tr>\n",
       "      <th>0</th>\n",
       "      <td>FC Barcelona takes his hat off to Real Madrid!...</td>\n",
       "      <td>2021-09-17 17:55:06</td>\n",
       "    </tr>\n",
       "    <tr>\n",
       "      <th>1</th>\n",
       "      <td>24-years-ago Faustino ‘El Tino’ Asprilla nette...</td>\n",
       "      <td>2021-09-17 17:51:54</td>\n",
       "    </tr>\n",
       "    <tr>\n",
       "      <th>2</th>\n",
       "      <td>@imfootybants FC Barcelona is a bigger club th...</td>\n",
       "      <td>2021-09-17 17:50:44</td>\n",
       "    </tr>\n",
       "    <tr>\n",
       "      <th>3</th>\n",
       "      <td>FC Barcelona: Eduard Romeu returns to the non-...</td>\n",
       "      <td>2021-09-17 17:46:25</td>\n",
       "    </tr>\n",
       "    <tr>\n",
       "      <th>4</th>\n",
       "      <td>GRIUP C:\\nAjax - 3 Points \\nBVB - 3 Points \\nB...</td>\n",
       "      <td>2021-09-17 17:37:43</td>\n",
       "    </tr>\n",
       "  </tbody>\n",
       "</table>\n",
       "</div>"
      ],
      "text/plain": [
       "                                               tweet                 date\n",
       "0  FC Barcelona takes his hat off to Real Madrid!...  2021-09-17 17:55:06\n",
       "1  24-years-ago Faustino ‘El Tino’ Asprilla nette...  2021-09-17 17:51:54\n",
       "2  @imfootybants FC Barcelona is a bigger club th...  2021-09-17 17:50:44\n",
       "3  FC Barcelona: Eduard Romeu returns to the non-...  2021-09-17 17:46:25\n",
       "4  GRIUP C:\\nAjax - 3 Points \\nBVB - 3 Points \\nB...  2021-09-17 17:37:43"
      ]
     },
     "execution_count": 23,
     "metadata": {},
     "output_type": "execute_result"
    }
   ],
   "source": [
    "barcelona.head()"
   ]
  },
  {
   "cell_type": "markdown",
   "id": "104ed92a",
   "metadata": {},
   "source": [
    "We will define a column for team name for the Analysis Later"
   ]
  },
  {
   "cell_type": "code",
   "execution_count": 24,
   "id": "ec392100",
   "metadata": {},
   "outputs": [],
   "source": [
    "manchester['Team'] = 'Manchester'"
   ]
  },
  {
   "cell_type": "code",
   "execution_count": 25,
   "id": "3ecff383",
   "metadata": {
    "scrolled": true
   },
   "outputs": [
    {
     "data": {
      "text/html": [
       "<div>\n",
       "<style scoped>\n",
       "    .dataframe tbody tr th:only-of-type {\n",
       "        vertical-align: middle;\n",
       "    }\n",
       "\n",
       "    .dataframe tbody tr th {\n",
       "        vertical-align: top;\n",
       "    }\n",
       "\n",
       "    .dataframe thead th {\n",
       "        text-align: right;\n",
       "    }\n",
       "</style>\n",
       "<table border=\"1\" class=\"dataframe\">\n",
       "  <thead>\n",
       "    <tr style=\"text-align: right;\">\n",
       "      <th></th>\n",
       "      <th>tweet</th>\n",
       "      <th>date</th>\n",
       "      <th>Team</th>\n",
       "    </tr>\n",
       "  </thead>\n",
       "  <tbody>\n",
       "    <tr>\n",
       "      <th>0</th>\n",
       "      <td>“I can’t now”- 29-year-old Tottenham superstar...</td>\n",
       "      <td>2021-09-17 17:54:28</td>\n",
       "      <td>Manchester</td>\n",
       "    </tr>\n",
       "    <tr>\n",
       "      <th>1</th>\n",
       "      <td>Ryan Giggs\\nClub :- Manchester United  \\nYears...</td>\n",
       "      <td>2021-09-17 17:54:11</td>\n",
       "      <td>Manchester</td>\n",
       "    </tr>\n",
       "    <tr>\n",
       "      <th>2</th>\n",
       "      <td>How long does it take for Manchester United me...</td>\n",
       "      <td>2021-09-17 17:54:08</td>\n",
       "      <td>Manchester</td>\n",
       "    </tr>\n",
       "    <tr>\n",
       "      <th>3</th>\n",
       "      <td>Can just imagine Ole shouting  \"This is Manche...</td>\n",
       "      <td>2021-09-17 17:53:38</td>\n",
       "      <td>Manchester</td>\n",
       "    </tr>\n",
       "    <tr>\n",
       "      <th>4</th>\n",
       "      <td>Carles Puyol\\nClub :- Barcelona\\nYears :- 1999...</td>\n",
       "      <td>2021-09-17 17:53:33</td>\n",
       "      <td>Manchester</td>\n",
       "    </tr>\n",
       "  </tbody>\n",
       "</table>\n",
       "</div>"
      ],
      "text/plain": [
       "                                               tweet                 date  \\\n",
       "0  “I can’t now”- 29-year-old Tottenham superstar...  2021-09-17 17:54:28   \n",
       "1  Ryan Giggs\\nClub :- Manchester United  \\nYears...  2021-09-17 17:54:11   \n",
       "2  How long does it take for Manchester United me...  2021-09-17 17:54:08   \n",
       "3  Can just imagine Ole shouting  \"This is Manche...  2021-09-17 17:53:38   \n",
       "4  Carles Puyol\\nClub :- Barcelona\\nYears :- 1999...  2021-09-17 17:53:33   \n",
       "\n",
       "         Team  \n",
       "0  Manchester  \n",
       "1  Manchester  \n",
       "2  Manchester  \n",
       "3  Manchester  \n",
       "4  Manchester  "
      ]
     },
     "execution_count": 25,
     "metadata": {},
     "output_type": "execute_result"
    }
   ],
   "source": [
    "manchester.head()"
   ]
  },
  {
   "cell_type": "markdown",
   "id": "6e8cfc4b",
   "metadata": {},
   "source": [
    "Same for Barcelona"
   ]
  },
  {
   "cell_type": "code",
   "execution_count": 26,
   "id": "6423b2d1",
   "metadata": {},
   "outputs": [],
   "source": [
    "barcelona['Team'] = 'Barcelona'"
   ]
  },
  {
   "cell_type": "code",
   "execution_count": 27,
   "id": "81cfbd35",
   "metadata": {},
   "outputs": [
    {
     "data": {
      "text/html": [
       "<div>\n",
       "<style scoped>\n",
       "    .dataframe tbody tr th:only-of-type {\n",
       "        vertical-align: middle;\n",
       "    }\n",
       "\n",
       "    .dataframe tbody tr th {\n",
       "        vertical-align: top;\n",
       "    }\n",
       "\n",
       "    .dataframe thead th {\n",
       "        text-align: right;\n",
       "    }\n",
       "</style>\n",
       "<table border=\"1\" class=\"dataframe\">\n",
       "  <thead>\n",
       "    <tr style=\"text-align: right;\">\n",
       "      <th></th>\n",
       "      <th>tweet</th>\n",
       "      <th>date</th>\n",
       "      <th>Team</th>\n",
       "    </tr>\n",
       "  </thead>\n",
       "  <tbody>\n",
       "    <tr>\n",
       "      <th>0</th>\n",
       "      <td>FC Barcelona takes his hat off to Real Madrid!...</td>\n",
       "      <td>2021-09-17 17:55:06</td>\n",
       "      <td>Barcelona</td>\n",
       "    </tr>\n",
       "    <tr>\n",
       "      <th>1</th>\n",
       "      <td>24-years-ago Faustino ‘El Tino’ Asprilla nette...</td>\n",
       "      <td>2021-09-17 17:51:54</td>\n",
       "      <td>Barcelona</td>\n",
       "    </tr>\n",
       "    <tr>\n",
       "      <th>2</th>\n",
       "      <td>@imfootybants FC Barcelona is a bigger club th...</td>\n",
       "      <td>2021-09-17 17:50:44</td>\n",
       "      <td>Barcelona</td>\n",
       "    </tr>\n",
       "    <tr>\n",
       "      <th>3</th>\n",
       "      <td>FC Barcelona: Eduard Romeu returns to the non-...</td>\n",
       "      <td>2021-09-17 17:46:25</td>\n",
       "      <td>Barcelona</td>\n",
       "    </tr>\n",
       "    <tr>\n",
       "      <th>4</th>\n",
       "      <td>GRIUP C:\\nAjax - 3 Points \\nBVB - 3 Points \\nB...</td>\n",
       "      <td>2021-09-17 17:37:43</td>\n",
       "      <td>Barcelona</td>\n",
       "    </tr>\n",
       "  </tbody>\n",
       "</table>\n",
       "</div>"
      ],
      "text/plain": [
       "                                               tweet                 date  \\\n",
       "0  FC Barcelona takes his hat off to Real Madrid!...  2021-09-17 17:55:06   \n",
       "1  24-years-ago Faustino ‘El Tino’ Asprilla nette...  2021-09-17 17:51:54   \n",
       "2  @imfootybants FC Barcelona is a bigger club th...  2021-09-17 17:50:44   \n",
       "3  FC Barcelona: Eduard Romeu returns to the non-...  2021-09-17 17:46:25   \n",
       "4  GRIUP C:\\nAjax - 3 Points \\nBVB - 3 Points \\nB...  2021-09-17 17:37:43   \n",
       "\n",
       "        Team  \n",
       "0  Barcelona  \n",
       "1  Barcelona  \n",
       "2  Barcelona  \n",
       "3  Barcelona  \n",
       "4  Barcelona  "
      ]
     },
     "execution_count": 27,
     "metadata": {},
     "output_type": "execute_result"
    }
   ],
   "source": [
    "barcelona.head()"
   ]
  },
  {
   "cell_type": "code",
   "execution_count": 29,
   "id": "6e043688",
   "metadata": {},
   "outputs": [],
   "source": [
    "df = pd.concat([manchester, barcelona])"
   ]
  },
  {
   "cell_type": "code",
   "execution_count": 31,
   "id": "40c1294c",
   "metadata": {},
   "outputs": [
    {
     "data": {
      "text/plain": [
       "(2000, 3)"
      ]
     },
     "execution_count": 31,
     "metadata": {},
     "output_type": "execute_result"
    }
   ],
   "source": [
    "df.shape"
   ]
  },
  {
   "cell_type": "code",
   "execution_count": 32,
   "id": "fbb517ab",
   "metadata": {},
   "outputs": [
    {
     "data": {
      "text/html": [
       "<div>\n",
       "<style scoped>\n",
       "    .dataframe tbody tr th:only-of-type {\n",
       "        vertical-align: middle;\n",
       "    }\n",
       "\n",
       "    .dataframe tbody tr th {\n",
       "        vertical-align: top;\n",
       "    }\n",
       "\n",
       "    .dataframe thead th {\n",
       "        text-align: right;\n",
       "    }\n",
       "</style>\n",
       "<table border=\"1\" class=\"dataframe\">\n",
       "  <thead>\n",
       "    <tr style=\"text-align: right;\">\n",
       "      <th></th>\n",
       "      <th>tweet</th>\n",
       "      <th>date</th>\n",
       "      <th>Team</th>\n",
       "    </tr>\n",
       "  </thead>\n",
       "  <tbody>\n",
       "    <tr>\n",
       "      <th>995</th>\n",
       "      <td>@FCBarcelona @ChampionsLeague Top 100 football...</td>\n",
       "      <td>2021-09-14 20:49:55</td>\n",
       "      <td>Barcelona</td>\n",
       "    </tr>\n",
       "    <tr>\n",
       "      <th>996</th>\n",
       "      <td>@FCBarcelona @ChampionsLeague Top 100 football...</td>\n",
       "      <td>2021-09-14 20:49:51</td>\n",
       "      <td>Barcelona</td>\n",
       "    </tr>\n",
       "    <tr>\n",
       "      <th>997</th>\n",
       "      <td>make that 0-3 and a few minutes to go. \\nThis ...</td>\n",
       "      <td>2021-09-14 20:49:44</td>\n",
       "      <td>Barcelona</td>\n",
       "    </tr>\n",
       "    <tr>\n",
       "      <th>998</th>\n",
       "      <td>FC Barcelona played like a finished club with ...</td>\n",
       "      <td>2021-09-14 20:49:44</td>\n",
       "      <td>Barcelona</td>\n",
       "    </tr>\n",
       "    <tr>\n",
       "      <th>999</th>\n",
       "      <td>Bayern Munich win 3-0 against FC Barcelona and...</td>\n",
       "      <td>2021-09-14 20:49:43</td>\n",
       "      <td>Barcelona</td>\n",
       "    </tr>\n",
       "  </tbody>\n",
       "</table>\n",
       "</div>"
      ],
      "text/plain": [
       "                                                 tweet                 date  \\\n",
       "995  @FCBarcelona @ChampionsLeague Top 100 football...  2021-09-14 20:49:55   \n",
       "996  @FCBarcelona @ChampionsLeague Top 100 football...  2021-09-14 20:49:51   \n",
       "997  make that 0-3 and a few minutes to go. \\nThis ...  2021-09-14 20:49:44   \n",
       "998  FC Barcelona played like a finished club with ...  2021-09-14 20:49:44   \n",
       "999  Bayern Munich win 3-0 against FC Barcelona and...  2021-09-14 20:49:43   \n",
       "\n",
       "          Team  \n",
       "995  Barcelona  \n",
       "996  Barcelona  \n",
       "997  Barcelona  \n",
       "998  Barcelona  \n",
       "999  Barcelona  "
      ]
     },
     "execution_count": 32,
     "metadata": {},
     "output_type": "execute_result"
    }
   ],
   "source": [
    "df.tail()"
   ]
  },
  {
   "cell_type": "markdown",
   "id": "9973f2d0",
   "metadata": {},
   "source": [
    "ok now we have 2 tweets for each team, now lets save this as csv and add it to our model "
   ]
  },
  {
   "cell_type": "code",
   "execution_count": 34,
   "id": "4d9e33a1",
   "metadata": {},
   "outputs": [],
   "source": [
    "df.to_csv('teams.csv', index=False)"
   ]
  }
 ],
 "metadata": {
  "kernelspec": {
   "display_name": "Anaconda (base)",
   "language": "python",
   "name": "anaconda-base"
  },
  "language_info": {
   "codemirror_mode": {
    "name": "ipython",
    "version": 3
   },
   "file_extension": ".py",
   "mimetype": "text/x-python",
   "name": "python",
   "nbconvert_exporter": "python",
   "pygments_lexer": "ipython3",
   "version": "3.8.8"
  }
 },
 "nbformat": 4,
 "nbformat_minor": 5
}
